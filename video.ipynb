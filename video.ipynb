{
 "cells": [
  {
   "cell_type": "code",
   "execution_count": 1,
   "metadata": {},
   "outputs": [],
   "source": [
    "import cv2\n",
    "import numpy\n",
    "import audio_lib\n",
    "img =cv2.imread('trajectory.png')\n",
    "im = cv2.cvtColor(img, cv2.COLOR_BGR2GRAY)\n",
    "#for y in range(1090,im.shape[0]-1100):\n",
    "#  print('x',numpy.argmin(im[y]),'y',y)"
   ]
  },
  {
   "cell_type": "code",
   "execution_count": 2,
   "metadata": {},
   "outputs": [],
   "source": [
    "imt =cv2.imread('paper.png')"
   ]
  },
  {
   "cell_type": "code",
   "execution_count": 3,
   "metadata": {
    "scrolled": false
   },
   "outputs": [
    {
     "data": {
      "text/plain": [
       "2654"
      ]
     },
     "execution_count": 3,
     "metadata": {},
     "output_type": "execute_result"
    }
   ],
   "source": [
    "numpy.argmin(im[1152])"
   ]
  },
  {
   "cell_type": "code",
   "execution_count": 4,
   "metadata": {},
   "outputs": [],
   "source": [
    "class Values:\n",
    "    def __init__(self,number):\n",
    "        self.stop = 1152\n",
    "        self.start = 1080\n",
    "        self.intro = [2605,]\n",
    "        self.du = audio_lib.intro(number)/1000 \n",
    "        self.jump =(1-0.5)/(self.du*60)\n",
    "        self.scale=1\n",
    "        self.y1=1080\n",
    "        self.x1 = 1920\n",
    "        self.ying=1080\n",
    "        self.xing=1920\n",
    "        self.x2=1187\n",
    "        self.y2=1152\n",
    "        self.move =(self.x1-self.x2)/(self.du*60)\n",
    "        self.y=self.y1\n",
    "        self.x=self.x1\n",
    "        self.x3=2653\n",
    "        self.du2=audio_lib.title(number)/1000\n",
    "        self.move2 =(self.x3-self.x2)/(self.du2*60)\n",
    "        self.du3=audio_lib.sub_intro(number)/1000\n",
    "        self.y3=2734\n",
    "        self.move3 =(self.y3-self.y2)/(self.du3*60)\n",
    "        self.height=1080\n",
    "        self.width=1920\n",
    "        self.placeholders=[4119]\n",
    "        self.speed=[]\n",
    "        self.speed.append((self.placeholders[0]-self.y3)/60)\n",
    "state = Values(1)        \n",
    "def pipeline(t):\n",
    "    if t!=0:\n",
    "        global state\n",
    "        frame=imt[int(state.y-(1080*state.scale)):int(state.y+(1080*state.scale)), int(state.x-(1920*state.scale)):int(state.x+(1920*state.scale))]\n",
    "        state.scale-=state.jump\n",
    "        state.xing-=state.move\n",
    "        state.ying=((state.y2-state.y1)*(state.xing-state.x1)/(state.x2-state.x1))+state.y1\n",
    "        state.x=state.xing\n",
    "        state.y=state.ying\n",
    "        volv=cv2.cvtColor(cv2.resize(frame,(1920, 1080)), cv2.COLOR_BGR2RGB)\n",
    "    else:\n",
    "        volv= numpy.zeros((1080,1920,3), numpy.uint8)\n",
    "    return volv\n",
    "\n",
    "def pipeline2(t):\n",
    "    if t!=0:\n",
    "        global state\n",
    "        frame=imt[int(state.y-(1080*state.scale)):int(state.y+(1080*state.scale)), int(state.x-(1920*state.scale)):int(state.x+(1920*state.scale))]\n",
    "        state.xing+=state.move2\n",
    "        state.x=state.xing\n",
    "        state.y=state.ying\n",
    "        volv=cv2.cvtColor(cv2.resize(frame,(1920, 1080)), cv2.COLOR_BGR2RGB)\n",
    "    else:\n",
    "        volv= numpy.zeros((1080,1920,3), numpy.uint8)\n",
    "    return volv\n",
    "def pipeline3(t):\n",
    "    if t!=0:\n",
    "        global state\n",
    "        frame=imt[int(state.y-(1080*state.scale)):int(state.y+(1080*state.scale)), int(state.x-(1920*state.scale)):int(state.x+(1920*state.scale))]\n",
    "        state.ying+=state.move3\n",
    "        state.y=state.ying\n",
    "        state.xing=numpy.argmin(im[int(state.ying)])\n",
    "        state.x=state.xing\n",
    "        volv=cv2.cvtColor(cv2.resize(frame,(1920, 1080)), cv2.COLOR_BGR2RGB)\n",
    "    else:\n",
    "        volv= numpy.zeros((1080,1920,3), numpy.uint8)\n",
    "    return volv\n",
    "def pipeline4(t):\n",
    "    if t!=0:\n",
    "        global state\n",
    "        frame=imt[int(state.y-(1080*state.scale)):int(state.y+(1080*state.scale)), int(state.x-(1920*state.scale)):int(state.x+(1920*state.scale))]\n",
    "        state.ying+=state.speed[0]\n",
    "        state.y=state.ying\n",
    "        state.xing=numpy.argmin(im[int(state.ying)])\n",
    "        state.x=state.xing\n",
    "        volv=cv2.cvtColor(cv2.resize(frame,(1920, 1080)), cv2.COLOR_BGR2RGB)\n",
    "    else:\n",
    "        volv= numpy.zeros((1080,1920,3), numpy.uint8)\n",
    "    return volv"
   ]
  },
  {
   "cell_type": "code",
   "execution_count": 5,
   "metadata": {},
   "outputs": [],
   "source": [
    "from moviepy.editor import *\n",
    "intro = AudioFileClip('intro.wav')\n",
    "title = AudioFileClip('title.wav')\n",
    "sub_intro = AudioFileClip('sub_intro.wav')"
   ]
  },
  {
   "cell_type": "code",
   "execution_count": 6,
   "metadata": {},
   "outputs": [],
   "source": [
    "i_clip=VideoClip(pipeline, duration=state.du).set_audio(intro)\n",
    "t_clip=VideoClip(pipeline2, duration=state.du2).set_audio(title)\n",
    "s_i_clip=VideoClip(pipeline3, duration=state.du3).set_audio(sub_intro)\n",
    "j1_clip=VideoClip(pipeline4, duration=1)\n",
    "clip=concatenate_videoclips([i_clip,t_clip,s_i_clip,j1_clip])"
   ]
  },
  {
   "cell_type": "code",
   "execution_count": 7,
   "metadata": {},
   "outputs": [
    {
     "name": "stdout",
     "output_type": "stream",
     "text": [
      "[MoviePy] >>>> Building video trippy.mp4\n",
      "[MoviePy] Writing audio in trippyTEMP_MPY_wvf_snd.mp3\n"
     ]
    },
    {
     "name": "stderr",
     "output_type": "stream",
     "text": [
      "100%|███████████████████████████████████████████████████████████| 548/548 [00:01<00:00, 445.90it/s]\n"
     ]
    },
    {
     "name": "stdout",
     "output_type": "stream",
     "text": [
      "[MoviePy] Done.\n",
      "[MoviePy] Writing video trippy.mp4\n"
     ]
    },
    {
     "name": "stderr",
     "output_type": "stream",
     "text": [
      "100%|██████████████████████████████████████████████████████████| 1549/1549 [03:06<00:00,  8.30it/s]\n"
     ]
    },
    {
     "name": "stdout",
     "output_type": "stream",
     "text": [
      "[MoviePy] Done.\n",
      "[MoviePy] >>>> Video ready: trippy.mp4 \n",
      "\n"
     ]
    }
   ],
   "source": [
    "clip.write_videofile('trippy.mp4',fps=60)"
   ]
  },
  {
   "cell_type": "code",
   "execution_count": null,
   "metadata": {},
   "outputs": [],
   "source": []
  }
 ],
 "metadata": {
  "kernelspec": {
   "display_name": "Python 3",
   "language": "python",
   "name": "python3"
  },
  "language_info": {
   "codemirror_mode": {
    "name": "ipython",
    "version": 3
   },
   "file_extension": ".py",
   "mimetype": "text/x-python",
   "name": "python",
   "nbconvert_exporter": "python",
   "pygments_lexer": "ipython3",
   "version": "3.7.0"
  }
 },
 "nbformat": 4,
 "nbformat_minor": 2
}
