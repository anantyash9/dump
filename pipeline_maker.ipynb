{
  "nbformat": 4,
  "nbformat_minor": 0,
  "metadata": {
    "colab": {
      "name": "Hello, Colaboratory",
      "version": "0.3.2",
      "provenance": [],
      "collapsed_sections": [],
      "toc_visible": true,
      "include_colab_link": true
    },
    "kernelspec": {
      "display_name": "Python 3",
      "name": "python3"
    }
  },
  "cells": [
    {
      "cell_type": "markdown",
      "metadata": {
        "id": "view-in-github",
        "colab_type": "text"
      },
      "source": [
        "<a href=\"https://colab.research.google.com/github/anantyash9/dump/blob/master/pipeline_maker.ipynb\" target=\"_parent\"><img src=\"https://colab.research.google.com/assets/colab-badge.svg\" alt=\"Open In Colab\"/></a>"
      ]
    },
    {
      "metadata": {
        "id": "Vwhv-o2GkXYq",
        "colab_type": "code",
        "colab": {}
      },
      "cell_type": "code",
      "source": [
        "def make_f(j,i=0):\n",
        "    def f(i):\n",
        "        print(j+i)\n",
        "    return f          \n",
        "    "
      ],
      "execution_count": 0,
      "outputs": []
    },
    {
      "metadata": {
        "id": "tH-omdPDolib",
        "colab_type": "code",
        "colab": {}
      },
      "cell_type": "code",
      "source": [
        "fun=[]\n",
        "for i in range(10):\n",
        "    fun.append(make_f(i))\n",
        "  "
      ],
      "execution_count": 0,
      "outputs": []
    },
    {
      "metadata": {
        "id": "kOyaA57lo6rR",
        "colab_type": "code",
        "colab": {
          "base_uri": "https://localhost:8080/",
          "height": 34
        },
        "outputId": "6b93dee4-db5b-4666-9c06-1d9dde2e03e3"
      },
      "cell_type": "code",
      "source": [
        "fun[9](10)"
      ],
      "execution_count": 46,
      "outputs": [
        {
          "output_type": "stream",
          "text": [
            "19\n"
          ],
          "name": "stdout"
        }
      ]
    },
    {
      "metadata": {
        "id": "ecw2wsD7vfQu",
        "colab_type": "code",
        "colab": {}
      },
      "cell_type": "code",
      "source": [
        "class Values:\n",
        "    def __init__(self,number):\n",
        "        self.stop = 1152\n",
        "        self.start = 1080\n",
        "        self.intro = [2605,]\n",
        "        self.du = 2\n",
        "        self.jump =(1-0.5)/(self.du*60)\n",
        "        self.scale=1\n",
        "        self.y1=1080\n",
        "        self.x1 = 1920\n",
        "        self.ying=1080\n",
        "        self.xing=1920\n",
        "        self.x2=1187\n",
        "        self.y2=1152\n",
        "        self.move =(self.x1-self.x2)/(self.du*60)\n",
        "        self.y=self.y1\n",
        "        self.x=self.x1\n",
        "        self.x3=2653\n",
        "        self.du2=2\n",
        "        self.move2 =(self.x3-self.x2)/(self.du2*60)\n",
        "        self.du3=2\n",
        "        self.y3=2734\n",
        "        self.move3 =(self.y3-self.y2)/(self.du3*60)\n",
        "        self.height=1080\n",
        "        self.width=1920\n",
        "        self.placeholders=[4119]\n",
        "        self.speed=[]\n",
        "        self.speed.append((self.placeholders[0]-self.y3)/60)"
      ],
      "execution_count": 0,
      "outputs": []
    },
    {
      "metadata": {
        "id": "XA3ISVr5pEMK",
        "colab_type": "code",
        "colab": {}
      },
      "cell_type": "code",
      "source": [
        "state=Values(1)\n",
        "def make_pipe(start,stop,duration,t=0):\n",
        "    global state\n",
        "    def pipeline(t):\n",
        "        if t!=0:\n",
        "            global state\n",
        "            print('start',start,'stop',stop,'duration',duration)\n",
        "            frame=imt[int(state.y-(1080*state.scale)):int(state.y+(1080*state.scale)), int(state.x-(1920*state.scale)):int(state.x+(1920*state.scale))]\n",
        "            state.ying+=(stop-start)/(duration*60)\n",
        "            state.y=state.ying\n",
        "            state.xing=numpy.argmin(im[int(state.ying)])\n",
        "            state.x=state.xing\n",
        "            volv=cv2.cvtColor(cv2.resize(frame,(1920, 1080)), cv2.COLOR_BGR2RGB)\n",
        "        else:\n",
        "            volv= numpy.zeros((1080,1920,3), numpy.uint8)\n",
        "        return volv\n",
        "    return pipeline"
      ],
      "execution_count": 0,
      "outputs": []
    },
    {
      "metadata": {
        "id": "VmBQ2v-bqd78",
        "colab_type": "code",
        "colab": {}
      },
      "cell_type": "code",
      "source": [
        "frame_marks=[(100,200),(300,400),(500,600),(700,800)]\n",
        "jumps=[]\n",
        "for i in range(3):\n",
        "    jumps.append(make_pipe(frame_marks[i][1],frame_marks[i+1][0],1))    "
      ],
      "execution_count": 0,
      "outputs": []
    },
    {
      "metadata": {
        "id": "Wgh7m5KK3cQ1",
        "colab_type": "code",
        "colab": {
          "base_uri": "https://localhost:8080/",
          "height": 34
        },
        "outputId": "8f9906e4-5d75-491f-a3c9-ae68628aa4f2"
      },
      "cell_type": "code",
      "source": [
        "len(jumps)"
      ],
      "execution_count": 64,
      "outputs": [
        {
          "output_type": "execute_result",
          "data": {
            "text/plain": [
              "3"
            ]
          },
          "metadata": {
            "tags": []
          },
          "execution_count": 64
        }
      ]
    },
    {
      "metadata": {
        "id": "dspAGLbv4D4u",
        "colab_type": "code",
        "colab": {
          "base_uri": "https://localhost:8080/",
          "height": 54
        },
        "outputId": "51f325ba-21a1-464e-d640-745ff0fcce11"
      },
      "cell_type": "code",
      "source": [
        "print(jumps)"
      ],
      "execution_count": 65,
      "outputs": [
        {
          "output_type": "stream",
          "text": [
            "[<function make_pipe.<locals>.pipeline at 0x7f138aba69d8>, <function make_pipe.<locals>.pipeline at 0x7f138ab65510>, <function make_pipe.<locals>.pipeline at 0x7f138ab65e18>]\n"
          ],
          "name": "stdout"
        }
      ]
    },
    {
      "metadata": {
        "id": "e4v5_hYe4Ge-",
        "colab_type": "code",
        "colab": {
          "base_uri": "https://localhost:8080/",
          "height": 319
        },
        "outputId": "8144dcf5-7c77-4957-b499-78a4700e889e"
      },
      "cell_type": "code",
      "source": [
        "jumps[2](1)"
      ],
      "execution_count": 68,
      "outputs": [
        {
          "output_type": "stream",
          "text": [
            "start 600 stop 700 duration 1\n"
          ],
          "name": "stdout"
        },
        {
          "output_type": "error",
          "ename": "NameError",
          "evalue": "ignored",
          "traceback": [
            "\u001b[0;31m---------------------------------------------------------------------------\u001b[0m",
            "\u001b[0;31mNameError\u001b[0m                                 Traceback (most recent call last)",
            "\u001b[0;32m<ipython-input-68-bed6a63abd7f>\u001b[0m in \u001b[0;36m<module>\u001b[0;34m()\u001b[0m\n\u001b[0;32m----> 1\u001b[0;31m \u001b[0mjumps\u001b[0m\u001b[0;34m[\u001b[0m\u001b[0;36m2\u001b[0m\u001b[0;34m]\u001b[0m\u001b[0;34m(\u001b[0m\u001b[0;36m1\u001b[0m\u001b[0;34m)\u001b[0m\u001b[0;34m\u001b[0m\u001b[0;34m\u001b[0m\u001b[0m\n\u001b[0m",
            "\u001b[0;32m<ipython-input-62-becacb4fbd4a>\u001b[0m in \u001b[0;36mpipeline\u001b[0;34m(t)\u001b[0m\n\u001b[1;32m      6\u001b[0m             \u001b[0;32mglobal\u001b[0m \u001b[0mstate\u001b[0m\u001b[0;34m\u001b[0m\u001b[0;34m\u001b[0m\u001b[0m\n\u001b[1;32m      7\u001b[0m             \u001b[0mprint\u001b[0m\u001b[0;34m(\u001b[0m\u001b[0;34m'start'\u001b[0m\u001b[0;34m,\u001b[0m\u001b[0mstart\u001b[0m\u001b[0;34m,\u001b[0m\u001b[0;34m'stop'\u001b[0m\u001b[0;34m,\u001b[0m\u001b[0mstop\u001b[0m\u001b[0;34m,\u001b[0m\u001b[0;34m'duration'\u001b[0m\u001b[0;34m,\u001b[0m\u001b[0mduration\u001b[0m\u001b[0;34m)\u001b[0m\u001b[0;34m\u001b[0m\u001b[0;34m\u001b[0m\u001b[0m\n\u001b[0;32m----> 8\u001b[0;31m             \u001b[0mframe\u001b[0m\u001b[0;34m=\u001b[0m\u001b[0mimt\u001b[0m\u001b[0;34m[\u001b[0m\u001b[0mint\u001b[0m\u001b[0;34m(\u001b[0m\u001b[0mstate\u001b[0m\u001b[0;34m.\u001b[0m\u001b[0my\u001b[0m\u001b[0;34m-\u001b[0m\u001b[0;34m(\u001b[0m\u001b[0;36m1080\u001b[0m\u001b[0;34m*\u001b[0m\u001b[0mstate\u001b[0m\u001b[0;34m.\u001b[0m\u001b[0mscale\u001b[0m\u001b[0;34m)\u001b[0m\u001b[0;34m)\u001b[0m\u001b[0;34m:\u001b[0m\u001b[0mint\u001b[0m\u001b[0;34m(\u001b[0m\u001b[0mstate\u001b[0m\u001b[0;34m.\u001b[0m\u001b[0my\u001b[0m\u001b[0;34m+\u001b[0m\u001b[0;34m(\u001b[0m\u001b[0;36m1080\u001b[0m\u001b[0;34m*\u001b[0m\u001b[0mstate\u001b[0m\u001b[0;34m.\u001b[0m\u001b[0mscale\u001b[0m\u001b[0;34m)\u001b[0m\u001b[0;34m)\u001b[0m\u001b[0;34m,\u001b[0m \u001b[0mint\u001b[0m\u001b[0;34m(\u001b[0m\u001b[0mstate\u001b[0m\u001b[0;34m.\u001b[0m\u001b[0mx\u001b[0m\u001b[0;34m-\u001b[0m\u001b[0;34m(\u001b[0m\u001b[0;36m1920\u001b[0m\u001b[0;34m*\u001b[0m\u001b[0mstate\u001b[0m\u001b[0;34m.\u001b[0m\u001b[0mscale\u001b[0m\u001b[0;34m)\u001b[0m\u001b[0;34m)\u001b[0m\u001b[0;34m:\u001b[0m\u001b[0mint\u001b[0m\u001b[0;34m(\u001b[0m\u001b[0mstate\u001b[0m\u001b[0;34m.\u001b[0m\u001b[0mx\u001b[0m\u001b[0;34m+\u001b[0m\u001b[0;34m(\u001b[0m\u001b[0;36m1920\u001b[0m\u001b[0;34m*\u001b[0m\u001b[0mstate\u001b[0m\u001b[0;34m.\u001b[0m\u001b[0mscale\u001b[0m\u001b[0;34m)\u001b[0m\u001b[0;34m)\u001b[0m\u001b[0;34m]\u001b[0m\u001b[0;34m\u001b[0m\u001b[0;34m\u001b[0m\u001b[0m\n\u001b[0m\u001b[1;32m      9\u001b[0m             \u001b[0mstate\u001b[0m\u001b[0;34m.\u001b[0m\u001b[0mying\u001b[0m\u001b[0;34m+=\u001b[0m\u001b[0;34m(\u001b[0m\u001b[0mstop\u001b[0m\u001b[0;34m-\u001b[0m\u001b[0mstart\u001b[0m\u001b[0;34m)\u001b[0m\u001b[0;34m/\u001b[0m\u001b[0;34m(\u001b[0m\u001b[0mduration\u001b[0m\u001b[0;34m*\u001b[0m\u001b[0;36m60\u001b[0m\u001b[0;34m)\u001b[0m\u001b[0;34m\u001b[0m\u001b[0;34m\u001b[0m\u001b[0m\n\u001b[1;32m     10\u001b[0m             \u001b[0mstate\u001b[0m\u001b[0;34m.\u001b[0m\u001b[0my\u001b[0m\u001b[0;34m=\u001b[0m\u001b[0mstate\u001b[0m\u001b[0;34m.\u001b[0m\u001b[0mying\u001b[0m\u001b[0;34m\u001b[0m\u001b[0;34m\u001b[0m\u001b[0m\n",
            "\u001b[0;31mNameError\u001b[0m: name 'imt' is not defined"
          ]
        }
      ]
    },
    {
      "metadata": {
        "id": "ofl9YuvS4Qlo",
        "colab_type": "code",
        "colab": {}
      },
      "cell_type": "code",
      "source": [
        ""
      ],
      "execution_count": 0,
      "outputs": []
    }
  ]
}